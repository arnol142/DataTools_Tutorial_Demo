{
 "cells": [
  {
   "cell_type": "markdown",
   "metadata": {
    "id": "OqSmFS3lZj9Y"
   },
   "source": [
    "# <center> Video Image Data </center>\n",
    "#### CMSE 495 Ford Group\n",
    "\n",
    "This tutorial teaches the user how to input a video file, such a mp4 and convert each frame of the video into a jpeg image using python, primarily in a Jupyter notebook."
   ]
  },
  {
   "cell_type": "markdown",
   "metadata": {
    "id": "GQIJxk_kdjT1"
   },
   "source": [
    "**Environment Setup (Makefile):**\n",
    "- Use the command 'make innit' automatically set up the environment for you.\n",
    "\n",
    "**Environment Setup (Manual):**\n",
    "- Set up new environment using pip/conda (Conda Recommended). Use command \n",
    "    \n",
    "    ```conda create -n envs python```\n",
    "\n",
    "- Activate your new environment. Use command \n",
    "\n",
    "    ```conda activate envs```\n",
    "\n",
    "- Install the requisite packages.Use command \n",
    "\n",
    "    ```pip install opencv-python``` or,\n",
    "\n",
    "    ```conda install -c conda-forge opencv```\n",
    "\n",
    "**Usage Instructions:**\n",
    "\n",
    "- The example call shows the format in which this func may be used.\n"
   ]
  },
  {
   "cell_type": "markdown",
   "metadata": {
    "id": "f0aUW4PLdobE"
   },
   "source": [
    "This process uses 2  packages called [os](https://docs.python.org/3/library/os.html)  and [cv2](https://pypi.org/project/opencv-python/). Os provides  miscellaneous operating system interfaces such as opening and reading the files."
   ]
  },
  {
   "cell_type": "markdown",
   "metadata": {
    "id": "qClPlbKaduK5"
   },
   "source": [
    "<b> ADD </b> An example question and visualization that that the data or tool can answer (this should be unique)"
   ]
  },
  {
   "cell_type": "code",
   "execution_count": null,
   "metadata": {
    "id": "PCbpVR-HZzmt"
   },
   "outputs": [],
   "source": [
    "import cv2\n",
    "import os\n",
    "import glob\n",
    "\n",
    "\n",
    "def video_to_frames(file_path, directory_path, greyscale = False):\n",
    "    '''This function will change a video file to a frames'''\n",
    "    \n",
    "    #opening the video\n",
    "    vidcap = cv2.VideoCapture(file_path) \n",
    "    \n",
    "    dirname = directory_path\n",
    "    os.makedirs(dirname, exist_ok=True)\n",
    "    \n",
    "    #capturing a frame as well as a boolean value representing whether an image was properly opened\n",
    "    success,image = vidcap.read()\n",
    "    \n",
    "    count = 0\n",
    "    \n",
    "    while success:\n",
    "        \n",
    "        #this is specifically for foam_segmented.avi\n",
    "        if greyscale:\n",
    "            image = cv2.cvtColor(image, cv2.COLOR_BGR2GRAY)\n",
    "            \n",
    "        #writing the image to a the directory path that was specified, \n",
    "        #if the path specified does not exist then it will be created\n",
    "        #this finctionality was added so that the images could be stored in a separate folder\n",
    "        #example of output file names: 1.jpg, 2.jpg, 3.jpg, and so on\n",
    "        cv2.imwrite(os.path.join(dirname, str(count)+\".jpg\"), image)\n",
    "        success,image = vidcap.read()\n",
    "        count += 1\n",
    "        #All the frames will be added in order\n",
    "        cv2.waitKey(1) \n",
    "    \n",
    "    #releasing the threads\n",
    "    vidcap.release()\n"
   ]
  },
  {
   "cell_type": "markdown",
   "metadata": {
    "id": "x6DuN40gcSGC"
   },
   "source": [
    "Example call for the function above \n",
    "\n",
    "avi_frames('./ford_data/2D_xy.avi', \"./frames/2D_xy\",False)"
   ]
  },
  {
   "cell_type": "code",
   "execution_count": null,
   "metadata": {
    "id": "-N-hJD11jJjo"
   },
   "outputs": [],
   "source": [
    "# Making a Video From Frames\n",
    "def frames_to_video(directory_path, fps, width, height):\n",
    "    fourcc = cv2.VideoWriter_fourcc(*'mp4v')\n",
    "    video = cv2.VideoWriter('video.avi', fourcc, fps, (width, height))\n",
    "    num_frames = len([name for name in os.listdir(directory_path) if os.path.isfile(name)])\n",
    "\n",
    "    for j in range(num_frames):\n",
    "        img = cv2.imread(str(j) + '.jpg')\n",
    "        video.write(img)\n",
    "\n",
    "    cv2.destroyAllWindows()\n",
    "    video.release()"
   ]
  },
  {
   "cell_type": "markdown",
   "metadata": {
    "id": "bnfzxPNJeZVS"
   },
   "source": [
    "**The code below will put the image arrays into a list.** This snippet of code utilizes glob but packages like os can also be used."
   ]
  },
  {
   "cell_type": "code",
   "execution_count": null,
   "metadata": {
    "id": "mLbqPW7SeJd-"
   },
   "outputs": [],
   "source": [
    "path = glob.glob(\"./*.jpg\")\n",
    "images = []\n",
    "for img in path:\n",
    "    n = cv2.imread(img)\n",
    "    images.append(n)"
   ]
  },
  {
   "cell_type": "markdown",
   "metadata": {},
   "source": [
    "# Example"
   ]
  },
  {
   "cell_type": "code",
   "execution_count": null,
   "metadata": {},
   "outputs": [],
   "source": [
    "# Download an exmaple AVI file\n",
    "import requests\n",
    "\n",
    "url='https://www.engr.colostate.edu/me/facil/dynamics/files/drop.avi'\n",
    "file='drop.avi'\n",
    "r = requests.get(url, allow_redirects=True)\n",
    "open(file, 'wb').write(r.content)"
   ]
  },
  {
   "cell_type": "code",
   "execution_count": null,
   "metadata": {},
   "outputs": [],
   "source": [
    "video_to_frames(file, 'drop')"
   ]
  },
  {
   "cell_type": "code",
   "execution_count": null,
   "metadata": {},
   "outputs": [],
   "source": [
    "#pick a frame and view it\n",
    "import matplotlib.pylab as plt\n",
    "\n",
    "im = cv2.imread('./drop/110.jpg')\n",
    "plt.imshow(im)"
   ]
  },
  {
   "cell_type": "markdown",
   "metadata": {
    "id": "GIq-_h4wdxWM"
   },
   "source": [
    "<b> References:</b>\n",
    "- https://docs.conda.io/projects/conda/en/latest/user-guide/tasks/manage-environments.html\n",
    "- https://pypi.org/project/opencv-python/"
   ]
  },
  {
   "cell_type": "code",
   "execution_count": null,
   "metadata": {
    "id": "hXCCqo-kkptN"
   },
   "outputs": [],
   "source": []
  }
 ],
 "metadata": {
  "colab": {
   "collapsed_sections": [],
   "name": "Untitled2.ipynb",
   "provenance": []
  },
  "kernelspec": {
   "display_name": "Python 3 (ipykernel)",
   "language": "python",
   "name": "python3"
  },
  "language_info": {
   "codemirror_mode": {
    "name": "ipython",
    "version": 3
   },
   "file_extension": ".py",
   "mimetype": "text/x-python",
   "name": "python",
   "nbconvert_exporter": "python",
   "pygments_lexer": "ipython3",
   "version": "3.10.2"
  }
 },
 "nbformat": 4,
 "nbformat_minor": 1
}
