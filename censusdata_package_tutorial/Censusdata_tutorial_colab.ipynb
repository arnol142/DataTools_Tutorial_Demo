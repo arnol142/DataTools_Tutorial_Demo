{
  "nbformat": 4,
  "nbformat_minor": 0,
  "metadata": {
    "colab": {
      "name": "Censusdata_tutorial_colab.ipynb",
      "provenance": [],
      "collapsed_sections": []
    },
    "kernelspec": {
      "name": "python3",
      "display_name": "Python 3"
    },
    "language_info": {
      "name": "python"
    }
  },
  "cells": [
    {
      "cell_type": "markdown",
      "source": [
        "# U.S. Census Data Tutorial"
      ],
      "metadata": {
        "id": "hHRAW7i-eUjv"
      }
    },
    {
      "cell_type": "markdown",
      "source": [
        "[![Open in Colab](https://colab.research.google.com/assets/colab-badge.svg)](https://colab.research.google.com/drive/1aQ_3NmphBiqHVA2TrhtUtojZKnIKMKfx#scrollTo=_kl5N3rweK9v)"
      ],
      "metadata": {
        "id": "UPWrwIItisYM"
      }
    },
    {
      "cell_type": "markdown",
      "source": [
        "## Install Dependencies"
      ],
      "metadata": {
        "id": "aZntiW1Qe3il"
      }
    },
    {
      "cell_type": "code",
      "source": [
        "!pip install pandas\n",
        "!pip install numpy\n",
        "!pip install regex\n",
        "!pip install censusdata"
      ],
      "metadata": {
        "colab": {
          "base_uri": "https://localhost:8080/"
        },
        "id": "j_HqhlJCe4QP",
        "outputId": "00fb6f75-5e26-4c17-cfd8-11b34eedd6e6"
      },
      "execution_count": 3,
      "outputs": [
        {
          "output_type": "stream",
          "name": "stdout",
          "text": [
            "Collecting censusdata\n",
            "  Downloading CensusData-1.15.tar.gz (26.6 MB)\n",
            "\u001b[K     |████████████████████████████████| 26.6 MB 1.4 MB/s \n",
            "\u001b[?25hRequirement already satisfied: pandas in /usr/local/lib/python3.7/dist-packages (from censusdata) (1.3.5)\n",
            "Requirement already satisfied: requests in /usr/local/lib/python3.7/dist-packages (from censusdata) (2.23.0)\n",
            "Requirement already satisfied: python-dateutil>=2.7.3 in /usr/local/lib/python3.7/dist-packages (from pandas->censusdata) (2.8.2)\n",
            "Requirement already satisfied: numpy>=1.17.3 in /usr/local/lib/python3.7/dist-packages (from pandas->censusdata) (1.21.5)\n",
            "Requirement already satisfied: pytz>=2017.3 in /usr/local/lib/python3.7/dist-packages (from pandas->censusdata) (2018.9)\n",
            "Requirement already satisfied: six>=1.5 in /usr/local/lib/python3.7/dist-packages (from python-dateutil>=2.7.3->pandas->censusdata) (1.15.0)\n",
            "Requirement already satisfied: certifi>=2017.4.17 in /usr/local/lib/python3.7/dist-packages (from requests->censusdata) (2021.10.8)\n",
            "Requirement already satisfied: chardet<4,>=3.0.2 in /usr/local/lib/python3.7/dist-packages (from requests->censusdata) (3.0.4)\n",
            "Requirement already satisfied: urllib3!=1.25.0,!=1.25.1,<1.26,>=1.21.1 in /usr/local/lib/python3.7/dist-packages (from requests->censusdata) (1.24.3)\n",
            "Requirement already satisfied: idna<3,>=2.5 in /usr/local/lib/python3.7/dist-packages (from requests->censusdata) (2.10)\n",
            "Building wheels for collected packages: censusdata\n",
            "  Building wheel for censusdata (setup.py) ... \u001b[?25l\u001b[?25hdone\n",
            "  Created wheel for censusdata: filename=CensusData-1.15-py3-none-any.whl size=28205534 sha256=887a50b8e1f474ece0544305c6235353f76cad9363fe07b8e85b10e880a0dbb6\n",
            "  Stored in directory: /root/.cache/pip/wheels/17/11/8c/933901298f486bd414f2ab1a62a114085f7d7a19dcbda2dd08\n",
            "Successfully built censusdata\n",
            "Installing collected packages: censusdata\n",
            "Successfully installed censusdata-1.15\n",
            "Requirement already satisfied: regex in /usr/local/lib/python3.7/dist-packages (2019.12.20)\n",
            "Requirement already satisfied: pandas in /usr/local/lib/python3.7/dist-packages (1.3.5)\n",
            "Requirement already satisfied: pytz>=2017.3 in /usr/local/lib/python3.7/dist-packages (from pandas) (2018.9)\n",
            "Requirement already satisfied: python-dateutil>=2.7.3 in /usr/local/lib/python3.7/dist-packages (from pandas) (2.8.2)\n",
            "Requirement already satisfied: numpy>=1.17.3 in /usr/local/lib/python3.7/dist-packages (from pandas) (1.21.5)\n",
            "Requirement already satisfied: six>=1.5 in /usr/local/lib/python3.7/dist-packages (from python-dateutil>=2.7.3->pandas) (1.15.0)\n",
            "Requirement already satisfied: numpy in /usr/local/lib/python3.7/dist-packages (1.21.5)\n"
          ]
        }
      ]
    },
    {
      "cell_type": "markdown",
      "source": [
        "### Reference and import"
      ],
      "metadata": {
        "id": "pvQMkl7Ue7iO"
      }
    },
    {
      "cell_type": "markdown",
      "source": [
        "If censusdata package was not in your enviroment, make sure to uncommond above line to pip it.\n",
        "\n",
        "Reference of the [CensusData library](https://jtleider.github.io/censusdata/index.html)"
      ],
      "metadata": {
        "id": "fPmm4U4Ze7r7"
      }
    },
    {
      "cell_type": "code",
      "source": [
        "import pandas as pd\n",
        "import re\n",
        "import numpy as np\n",
        "import censusdata"
      ],
      "metadata": {
        "id": "yvNCOitZe52l"
      },
      "execution_count": 4,
      "outputs": []
    },
    {
      "cell_type": "markdown",
      "source": [
        "### Main Methods\n",
        "[CensusData API Documentation](https://jtleider.github.io/censusdata/api.html)"
      ],
      "metadata": {
        "id": "3DJGo_VxfE5A"
      }
    },
    {
      "cell_type": "code",
      "source": [
        "# Search for ACS 2015-2019 5-year estimate variables where the concept \n",
        "# includes the text 'population'.\n",
        "sample = censusdata.search('acs5', 2019, 'concept', \n",
        "                           lambda value: re.search('population', value, re.IGNORECASE))"
      ],
      "metadata": {
        "id": "qp4PDF9CfDNO"
      },
      "execution_count": 5,
      "outputs": []
    },
    {
      "cell_type": "markdown",
      "source": [
        "**Parameters:**\t\n",
        "* src (str) – Census data source: ```‘acs1’``` for **ACS 1-year estimates**, ```‘acs5’``` for **ACS 5-year estimates**, ```‘acs3’``` for **ACS 3-year estimates**, ```‘acsse’``` for **ACS 1-year supplemental estimates**, ```‘sf1’``` for **SF1 data**.\n",
        "* year (int) – Year of data.\n",
        "* field (str) – Field in which to search.\n",
        "* criterion (str or function) – Search criterion. Either string to search for, or a function which will be passed the value of field and return True if a match and False otherwise.\n",
        "* tabletype (str, optional) – Type of table from which variables are drawn (only applicable to ACS data). Options are ```‘detail’``` (detail tables), ```‘subject’``` (subject tables), ```‘profile’``` (data profile tables), ```‘cprofile’``` (comparison profile tables).\n",
        "\n",
        "**Returns:**\t\n",
        "List of 3-tuples containing variable names, concepts, and labels matching the search criterion.\n",
        "\n",
        "**Return type:**\t\n",
        "list"
      ],
      "metadata": {
        "id": "DHQoB5zBfKf9"
      }
    },
    {
      "cell_type": "code",
      "source": [
        "print('Length of the samples:', len(sample))"
      ],
      "metadata": {
        "colab": {
          "base_uri": "https://localhost:8080/"
        },
        "id": "zL351HWRfHrQ",
        "outputId": "5b514acc-c7f8-4d29-c974-e3350c28f4dc"
      },
      "execution_count": 6,
      "outputs": [
        {
          "output_type": "stream",
          "name": "stdout",
          "text": [
            "Length of the samples: 10765\n"
          ]
        }
      ]
    },
    {
      "cell_type": "markdown",
      "source": [
        "This would be the sample amount we get based on what we use to search. In this case, there are 10765 samples which are ACS 5-year estimates for 2019 include the text 'population'."
      ],
      "metadata": {
        "id": "CIdaGqk7fWGA"
      }
    },
    {
      "cell_type": "code",
      "source": [
        "print(sample[0])"
      ],
      "metadata": {
        "colab": {
          "base_uri": "https://localhost:8080/"
        },
        "id": "KPs-OxMjfYCv",
        "outputId": "1b3312bb-980c-44de-bc9c-7bbc0ff38aa4"
      },
      "execution_count": 7,
      "outputs": [
        {
          "output_type": "stream",
          "name": "stdout",
          "text": [
            "('B01003_001E', 'TOTAL POPULATION', 'Estimate!!Total')\n"
          ]
        }
      ]
    },
    {
      "cell_type": "markdown",
      "source": [
        "Let's use the first sample file as an example. Based on the result from above, the first sample is called: 'B01003_001E', which is a total population table under the parent table B01003. \n",
        "\n",
        "After you know the parent table you're interested in you can use the ```printtable``` function to get a clean readout of all the subtables in order to check if there are other subtables we might interested about."
      ],
      "metadata": {
        "id": "jgHD1z9pfb_Z"
      }
    },
    {
      "cell_type": "code",
      "source": [
        "censusdata.printtable(censusdata.censustable('acs5', 2019, 'B01003'))"
      ],
      "metadata": {
        "colab": {
          "base_uri": "https://localhost:8080/"
        },
        "id": "C9URkf5AfgtM",
        "outputId": "dda274fa-ce51-4f6a-9d56-eacb07d35625"
      },
      "execution_count": 8,
      "outputs": [
        {
          "output_type": "stream",
          "name": "stdout",
          "text": [
            "Variable     | Table                          | Label                                                    | Type \n",
            "-------------------------------------------------------------------------------------------------------------------\n",
            "B01003_001E  | TOTAL POPULATION               | !! Estimate Total                                        | int  \n",
            "-------------------------------------------------------------------------------------------------------------------\n"
          ]
        }
      ]
    },
    {
      "cell_type": "markdown",
      "source": [
        "### Data download\n",
        "\n",
        "**Step 1** and **Step 2** is for people who want to download the data based on a state they want (**Step 1**), and a county they want (**Step 2**).\n",
        "\n",
        "**Step 1** If you want to download the data for some States, you need to find the geography code for it. And function ```geographies``` is build for that"
      ],
      "metadata": {
        "id": "jDMWTvKNfkJ3"
      }
    },
    {
      "cell_type": "code",
      "source": [
        "states = censusdata.geographies(censusdata.censusgeo([('state', '*')]), 'acs5', 2019)\n",
        "print(states['Michigan'])"
      ],
      "metadata": {
        "colab": {
          "base_uri": "https://localhost:8080/"
        },
        "id": "XVEibl33fue7",
        "outputId": "c2263780-846e-4b5f-d91a-bfec316e33fc"
      },
      "execution_count": 9,
      "outputs": [
        {
          "output_type": "stream",
          "name": "stdout",
          "text": [
            "Summary level: 040, state:26\n"
          ]
        }
      ]
    },
    {
      "cell_type": "markdown",
      "source": [
        "**Step 2** Also if you want it be county level you need do almost the same thing but by adding county after state. For example:"
      ],
      "metadata": {
        "id": "lt8gdDYkf0n0"
      }
    },
    {
      "cell_type": "code",
      "source": [
        "counties = censusdata.geographies(censusdata.censusgeo([('state', '26'), ('county', '*')]), 'acs5', 2019)\n",
        "print(counties['Wayne County, Michigan'])"
      ],
      "metadata": {
        "colab": {
          "base_uri": "https://localhost:8080/"
        },
        "id": "7w_C_NiPf2gk",
        "outputId": "8fc033b6-63dc-443b-e7e4-6ba924ce9a24"
      },
      "execution_count": 10,
      "outputs": [
        {
          "output_type": "stream",
          "name": "stdout",
          "text": [
            "Summary level: 050, state:26> county:163\n"
          ]
        }
      ]
    },
    {
      "cell_type": "markdown",
      "source": [
        "**Step 3** Now, is time to download what you want. Example based on Michigan, Wayne County. \n",
        "\n",
        "**NOTE:** If you don't want to download the data based on state and county code, leave the state and county as ```'*'``` same as the block group."
      ],
      "metadata": {
        "id": "r5-w5dICf4Ne"
      }
    },
    {
      "cell_type": "code",
      "source": [
        "data = censusdata.download('acs5', 2019, censusdata.censusgeo([('state', '26'),\n",
        "                                                               ('county', '163'),\n",
        "                                                               ('block group', '*')]),\n",
        "                          ['B01003_001E'])"
      ],
      "metadata": {
        "id": "iXxpjNsPf5by"
      },
      "execution_count": 11,
      "outputs": []
    },
    {
      "cell_type": "markdown",
      "source": [
        "And this is the length of the data we get."
      ],
      "metadata": {
        "id": "5TlINwm_f7Dy"
      }
    },
    {
      "cell_type": "code",
      "source": [
        "len(data)"
      ],
      "metadata": {
        "colab": {
          "base_uri": "https://localhost:8080/"
        },
        "id": "AxFjtbDFf7lA",
        "outputId": "ba513a8b-0d39-4c73-8432-c3ef345f9391"
      },
      "execution_count": 12,
      "outputs": [
        {
          "output_type": "execute_result",
          "data": {
            "text/plain": [
              "1822"
            ]
          },
          "metadata": {},
          "execution_count": 12
        }
      ]
    },
    {
      "cell_type": "markdown",
      "source": [
        "### Extra (data formating, slice)\n",
        "\n",
        "This part are some extra step if you need, such as change the column name by using pandas, and slice it based on Census Tract by using ```census_cut``` in ```Help_Functions```.\n",
        "\n",
        "**NOTE:** If you open in colab, the ```census_cut``` function would in this note book."
      ],
      "metadata": {
        "id": "e5S_UErzf9ZO"
      }
    },
    {
      "cell_type": "code",
      "source": [
        "column_name = ['TOTAL POPULATION']\n",
        "data.columns = column_name"
      ],
      "metadata": {
        "id": "ug1jhxBpgmE1"
      },
      "execution_count": 13,
      "outputs": []
    },
    {
      "cell_type": "code",
      "source": [
        "new_indices = []\n",
        "for index in data.index.tolist():\n",
        "    new_indices.append(index)\n",
        "\n",
        "data.index = new_indices"
      ],
      "metadata": {
        "id": "u74sdSJXgm9y"
      },
      "execution_count": 14,
      "outputs": []
    },
    {
      "cell_type": "code",
      "source": [
        "data.head()"
      ],
      "metadata": {
        "colab": {
          "base_uri": "https://localhost:8080/",
          "height": 206
        },
        "id": "zsi2ZnePgn25",
        "outputId": "dec2f0b1-7e32-420d-aee3-085eb82e14e1"
      },
      "execution_count": 15,
      "outputs": [
        {
          "output_type": "execute_result",
          "data": {
            "text/html": [
              "\n",
              "  <div id=\"df-4f4227ef-a14c-4b91-bfda-b0fd9de5d436\">\n",
              "    <div class=\"colab-df-container\">\n",
              "      <div>\n",
              "<style scoped>\n",
              "    .dataframe tbody tr th:only-of-type {\n",
              "        vertical-align: middle;\n",
              "    }\n",
              "\n",
              "    .dataframe tbody tr th {\n",
              "        vertical-align: top;\n",
              "    }\n",
              "\n",
              "    .dataframe thead th {\n",
              "        text-align: right;\n",
              "    }\n",
              "</style>\n",
              "<table border=\"1\" class=\"dataframe\">\n",
              "  <thead>\n",
              "    <tr style=\"text-align: right;\">\n",
              "      <th></th>\n",
              "      <th>TOTAL POPULATION</th>\n",
              "    </tr>\n",
              "  </thead>\n",
              "  <tbody>\n",
              "    <tr>\n",
              "      <th>Block Group 0, Census Tract 9901, Wayne County, Michigan: Summary level: 150, state:26&gt; county:163&gt; tract:990100&gt; block group:0</th>\n",
              "      <td>0</td>\n",
              "    </tr>\n",
              "    <tr>\n",
              "      <th>Block Group 3, Census Tract 5104, Wayne County, Michigan: Summary level: 150, state:26&gt; county:163&gt; tract:510400&gt; block group:3</th>\n",
              "      <td>238</td>\n",
              "    </tr>\n",
              "    <tr>\n",
              "      <th>Block Group 5, Census Tract 5528, Wayne County, Michigan: Summary level: 150, state:26&gt; county:163&gt; tract:552800&gt; block group:5</th>\n",
              "      <td>1546</td>\n",
              "    </tr>\n",
              "    <tr>\n",
              "      <th>Block Group 3, Census Tract 5014, Wayne County, Michigan: Summary level: 150, state:26&gt; county:163&gt; tract:501400&gt; block group:3</th>\n",
              "      <td>757</td>\n",
              "    </tr>\n",
              "    <tr>\n",
              "      <th>Block Group 2, Census Tract 5044, Wayne County, Michigan: Summary level: 150, state:26&gt; county:163&gt; tract:504400&gt; block group:2</th>\n",
              "      <td>427</td>\n",
              "    </tr>\n",
              "  </tbody>\n",
              "</table>\n",
              "</div>\n",
              "      <button class=\"colab-df-convert\" onclick=\"convertToInteractive('df-4f4227ef-a14c-4b91-bfda-b0fd9de5d436')\"\n",
              "              title=\"Convert this dataframe to an interactive table.\"\n",
              "              style=\"display:none;\">\n",
              "        \n",
              "  <svg xmlns=\"http://www.w3.org/2000/svg\" height=\"24px\"viewBox=\"0 0 24 24\"\n",
              "       width=\"24px\">\n",
              "    <path d=\"M0 0h24v24H0V0z\" fill=\"none\"/>\n",
              "    <path d=\"M18.56 5.44l.94 2.06.94-2.06 2.06-.94-2.06-.94-.94-2.06-.94 2.06-2.06.94zm-11 1L8.5 8.5l.94-2.06 2.06-.94-2.06-.94L8.5 2.5l-.94 2.06-2.06.94zm10 10l.94 2.06.94-2.06 2.06-.94-2.06-.94-.94-2.06-.94 2.06-2.06.94z\"/><path d=\"M17.41 7.96l-1.37-1.37c-.4-.4-.92-.59-1.43-.59-.52 0-1.04.2-1.43.59L10.3 9.45l-7.72 7.72c-.78.78-.78 2.05 0 2.83L4 21.41c.39.39.9.59 1.41.59.51 0 1.02-.2 1.41-.59l7.78-7.78 2.81-2.81c.8-.78.8-2.07 0-2.86zM5.41 20L4 18.59l7.72-7.72 1.47 1.35L5.41 20z\"/>\n",
              "  </svg>\n",
              "      </button>\n",
              "      \n",
              "  <style>\n",
              "    .colab-df-container {\n",
              "      display:flex;\n",
              "      flex-wrap:wrap;\n",
              "      gap: 12px;\n",
              "    }\n",
              "\n",
              "    .colab-df-convert {\n",
              "      background-color: #E8F0FE;\n",
              "      border: none;\n",
              "      border-radius: 50%;\n",
              "      cursor: pointer;\n",
              "      display: none;\n",
              "      fill: #1967D2;\n",
              "      height: 32px;\n",
              "      padding: 0 0 0 0;\n",
              "      width: 32px;\n",
              "    }\n",
              "\n",
              "    .colab-df-convert:hover {\n",
              "      background-color: #E2EBFA;\n",
              "      box-shadow: 0px 1px 2px rgba(60, 64, 67, 0.3), 0px 1px 3px 1px rgba(60, 64, 67, 0.15);\n",
              "      fill: #174EA6;\n",
              "    }\n",
              "\n",
              "    [theme=dark] .colab-df-convert {\n",
              "      background-color: #3B4455;\n",
              "      fill: #D2E3FC;\n",
              "    }\n",
              "\n",
              "    [theme=dark] .colab-df-convert:hover {\n",
              "      background-color: #434B5C;\n",
              "      box-shadow: 0px 1px 3px 1px rgba(0, 0, 0, 0.15);\n",
              "      filter: drop-shadow(0px 1px 2px rgba(0, 0, 0, 0.3));\n",
              "      fill: #FFFFFF;\n",
              "    }\n",
              "  </style>\n",
              "\n",
              "      <script>\n",
              "        const buttonEl =\n",
              "          document.querySelector('#df-4f4227ef-a14c-4b91-bfda-b0fd9de5d436 button.colab-df-convert');\n",
              "        buttonEl.style.display =\n",
              "          google.colab.kernel.accessAllowed ? 'block' : 'none';\n",
              "\n",
              "        async function convertToInteractive(key) {\n",
              "          const element = document.querySelector('#df-4f4227ef-a14c-4b91-bfda-b0fd9de5d436');\n",
              "          const dataTable =\n",
              "            await google.colab.kernel.invokeFunction('convertToInteractive',\n",
              "                                                     [key], {});\n",
              "          if (!dataTable) return;\n",
              "\n",
              "          const docLinkHtml = 'Like what you see? Visit the ' +\n",
              "            '<a target=\"_blank\" href=https://colab.research.google.com/notebooks/data_table.ipynb>data table notebook</a>'\n",
              "            + ' to learn more about interactive tables.';\n",
              "          element.innerHTML = '';\n",
              "          dataTable['output_type'] = 'display_data';\n",
              "          await google.colab.output.renderOutput(dataTable, element);\n",
              "          const docLink = document.createElement('div');\n",
              "          docLink.innerHTML = docLinkHtml;\n",
              "          element.appendChild(docLink);\n",
              "        }\n",
              "      </script>\n",
              "    </div>\n",
              "  </div>\n",
              "  "
            ],
            "text/plain": [
              "                                                    TOTAL POPULATION\n",
              "Block Group 0, Census Tract 9901, Wayne County,...                 0\n",
              "Block Group 3, Census Tract 5104, Wayne County,...               238\n",
              "Block Group 5, Census Tract 5528, Wayne County,...              1546\n",
              "Block Group 3, Census Tract 5014, Wayne County,...               757\n",
              "Block Group 2, Census Tract 5044, Wayne County,...               427"
            ]
          },
          "metadata": {},
          "execution_count": 15
        }
      ]
    },
    {
      "cell_type": "markdown",
      "source": [
        "### ```census_cut``` usage\n",
        "\n",
        "In ```Help_Functions``` there is a function called ```census_cut```, and it is use for cut the data we download by using ```censusdata``` package based on ```Census Tract``` you want, and it would return a new dataframe.\n",
        "\n",
        "[More information about ```Census Tract```.](https://www2.census.gov/geo/pdfs/education/CensusTracts.pdf)\n",
        "\n",
        "And the ```census_cut``` function is looks like this:"
      ],
      "metadata": {
        "id": "KmVWaVYigqNr"
      }
    },
    {
      "cell_type": "code",
      "source": [
        "def census_cut(tracts, data):\n",
        "    '''\n",
        "    This function is use to cut based on Census Tract for data download by using censusdata package.\n",
        "        \n",
        "        Parameters:\n",
        "            tracts: A list of string which are the Census Tract. Such as 'Census Tract 0000'.\n",
        "            data: Data download by using censusdata package.\n",
        "        Return:\n",
        "            result: A new set of data which only include the data based on Census Track.\n",
        "    '''\n",
        "    mask = []\n",
        "    for i in range(len(data.index)):\n",
        "        string = str(data.index[i])\n",
        "        check = True\n",
        "        for tract in tracts:\n",
        "            match = re.search(tract, string)\n",
        "            if match:\n",
        "                mask.append(True)\n",
        "                check = False\n",
        "        if check:\n",
        "            mask.append(False)\n",
        "    len(mask), len(data.index)\n",
        "    result = data[mask]\n",
        "    return result"
      ],
      "metadata": {
        "id": "IyfR40yzgsny"
      },
      "execution_count": 16,
      "outputs": []
    },
    {
      "cell_type": "markdown",
      "source": [
        "For example, we want the data for some areas based on Census Tracts are 5301 to 5305"
      ],
      "metadata": {
        "id": "3fGCp5Jbguun"
      }
    },
    {
      "cell_type": "code",
      "source": [
        "Tracts = ['Census Tract 5301', 'Census Tract 5302', 'Census Tract 5303', 'Census Tract 5304','Census Tract 5305']"
      ],
      "metadata": {
        "id": "ChyF7Nxdgv0_"
      },
      "execution_count": 17,
      "outputs": []
    },
    {
      "cell_type": "code",
      "source": [
        "df = census_cut(Tracts, data)\n",
        "df"
      ],
      "metadata": {
        "colab": {
          "base_uri": "https://localhost:8080/",
          "height": 582
        },
        "id": "Axthrickgw8h",
        "outputId": "edfc786f-129e-4a99-c856-fff77fbcd8bd"
      },
      "execution_count": 18,
      "outputs": [
        {
          "output_type": "execute_result",
          "data": {
            "text/html": [
              "\n",
              "  <div id=\"df-538cbf2e-8f16-431c-8678-fe6e7547e3a1\">\n",
              "    <div class=\"colab-df-container\">\n",
              "      <div>\n",
              "<style scoped>\n",
              "    .dataframe tbody tr th:only-of-type {\n",
              "        vertical-align: middle;\n",
              "    }\n",
              "\n",
              "    .dataframe tbody tr th {\n",
              "        vertical-align: top;\n",
              "    }\n",
              "\n",
              "    .dataframe thead th {\n",
              "        text-align: right;\n",
              "    }\n",
              "</style>\n",
              "<table border=\"1\" class=\"dataframe\">\n",
              "  <thead>\n",
              "    <tr style=\"text-align: right;\">\n",
              "      <th></th>\n",
              "      <th>TOTAL POPULATION</th>\n",
              "    </tr>\n",
              "  </thead>\n",
              "  <tbody>\n",
              "    <tr>\n",
              "      <th>Block Group 3, Census Tract 5301, Wayne County, Michigan: Summary level: 150, state:26&gt; county:163&gt; tract:530100&gt; block group:3</th>\n",
              "      <td>771</td>\n",
              "    </tr>\n",
              "    <tr>\n",
              "      <th>Block Group 1, Census Tract 5302, Wayne County, Michigan: Summary level: 150, state:26&gt; county:163&gt; tract:530200&gt; block group:1</th>\n",
              "      <td>1389</td>\n",
              "    </tr>\n",
              "    <tr>\n",
              "      <th>Block Group 3, Census Tract 5302, Wayne County, Michigan: Summary level: 150, state:26&gt; county:163&gt; tract:530200&gt; block group:3</th>\n",
              "      <td>139</td>\n",
              "    </tr>\n",
              "    <tr>\n",
              "      <th>Block Group 2, Census Tract 5305, Wayne County, Michigan: Summary level: 150, state:26&gt; county:163&gt; tract:530500&gt; block group:2</th>\n",
              "      <td>890</td>\n",
              "    </tr>\n",
              "    <tr>\n",
              "      <th>Block Group 2, Census Tract 5304, Wayne County, Michigan: Summary level: 150, state:26&gt; county:163&gt; tract:530400&gt; block group:2</th>\n",
              "      <td>647</td>\n",
              "    </tr>\n",
              "    <tr>\n",
              "      <th>Block Group 2, Census Tract 5301, Wayne County, Michigan: Summary level: 150, state:26&gt; county:163&gt; tract:530100&gt; block group:2</th>\n",
              "      <td>366</td>\n",
              "    </tr>\n",
              "    <tr>\n",
              "      <th>Block Group 1, Census Tract 5301, Wayne County, Michigan: Summary level: 150, state:26&gt; county:163&gt; tract:530100&gt; block group:1</th>\n",
              "      <td>704</td>\n",
              "    </tr>\n",
              "    <tr>\n",
              "      <th>Block Group 4, Census Tract 5301, Wayne County, Michigan: Summary level: 150, state:26&gt; county:163&gt; tract:530100&gt; block group:4</th>\n",
              "      <td>330</td>\n",
              "    </tr>\n",
              "    <tr>\n",
              "      <th>Block Group 1, Census Tract 5304, Wayne County, Michigan: Summary level: 150, state:26&gt; county:163&gt; tract:530400&gt; block group:1</th>\n",
              "      <td>398</td>\n",
              "    </tr>\n",
              "    <tr>\n",
              "      <th>Block Group 3, Census Tract 5303, Wayne County, Michigan: Summary level: 150, state:26&gt; county:163&gt; tract:530300&gt; block group:3</th>\n",
              "      <td>702</td>\n",
              "    </tr>\n",
              "    <tr>\n",
              "      <th>Block Group 1, Census Tract 5303, Wayne County, Michigan: Summary level: 150, state:26&gt; county:163&gt; tract:530300&gt; block group:1</th>\n",
              "      <td>281</td>\n",
              "    </tr>\n",
              "    <tr>\n",
              "      <th>Block Group 4, Census Tract 5302, Wayne County, Michigan: Summary level: 150, state:26&gt; county:163&gt; tract:530200&gt; block group:4</th>\n",
              "      <td>1509</td>\n",
              "    </tr>\n",
              "    <tr>\n",
              "      <th>Block Group 2, Census Tract 5302, Wayne County, Michigan: Summary level: 150, state:26&gt; county:163&gt; tract:530200&gt; block group:2</th>\n",
              "      <td>921</td>\n",
              "    </tr>\n",
              "    <tr>\n",
              "      <th>Block Group 5, Census Tract 5302, Wayne County, Michigan: Summary level: 150, state:26&gt; county:163&gt; tract:530200&gt; block group:5</th>\n",
              "      <td>340</td>\n",
              "    </tr>\n",
              "    <tr>\n",
              "      <th>Block Group 1, Census Tract 5305, Wayne County, Michigan: Summary level: 150, state:26&gt; county:163&gt; tract:530500&gt; block group:1</th>\n",
              "      <td>490</td>\n",
              "    </tr>\n",
              "    <tr>\n",
              "      <th>Block Group 2, Census Tract 5303, Wayne County, Michigan: Summary level: 150, state:26&gt; county:163&gt; tract:530300&gt; block group:2</th>\n",
              "      <td>329</td>\n",
              "    </tr>\n",
              "    <tr>\n",
              "      <th>Block Group 3, Census Tract 5305, Wayne County, Michigan: Summary level: 150, state:26&gt; county:163&gt; tract:530500&gt; block group:3</th>\n",
              "      <td>435</td>\n",
              "    </tr>\n",
              "  </tbody>\n",
              "</table>\n",
              "</div>\n",
              "      <button class=\"colab-df-convert\" onclick=\"convertToInteractive('df-538cbf2e-8f16-431c-8678-fe6e7547e3a1')\"\n",
              "              title=\"Convert this dataframe to an interactive table.\"\n",
              "              style=\"display:none;\">\n",
              "        \n",
              "  <svg xmlns=\"http://www.w3.org/2000/svg\" height=\"24px\"viewBox=\"0 0 24 24\"\n",
              "       width=\"24px\">\n",
              "    <path d=\"M0 0h24v24H0V0z\" fill=\"none\"/>\n",
              "    <path d=\"M18.56 5.44l.94 2.06.94-2.06 2.06-.94-2.06-.94-.94-2.06-.94 2.06-2.06.94zm-11 1L8.5 8.5l.94-2.06 2.06-.94-2.06-.94L8.5 2.5l-.94 2.06-2.06.94zm10 10l.94 2.06.94-2.06 2.06-.94-2.06-.94-.94-2.06-.94 2.06-2.06.94z\"/><path d=\"M17.41 7.96l-1.37-1.37c-.4-.4-.92-.59-1.43-.59-.52 0-1.04.2-1.43.59L10.3 9.45l-7.72 7.72c-.78.78-.78 2.05 0 2.83L4 21.41c.39.39.9.59 1.41.59.51 0 1.02-.2 1.41-.59l7.78-7.78 2.81-2.81c.8-.78.8-2.07 0-2.86zM5.41 20L4 18.59l7.72-7.72 1.47 1.35L5.41 20z\"/>\n",
              "  </svg>\n",
              "      </button>\n",
              "      \n",
              "  <style>\n",
              "    .colab-df-container {\n",
              "      display:flex;\n",
              "      flex-wrap:wrap;\n",
              "      gap: 12px;\n",
              "    }\n",
              "\n",
              "    .colab-df-convert {\n",
              "      background-color: #E8F0FE;\n",
              "      border: none;\n",
              "      border-radius: 50%;\n",
              "      cursor: pointer;\n",
              "      display: none;\n",
              "      fill: #1967D2;\n",
              "      height: 32px;\n",
              "      padding: 0 0 0 0;\n",
              "      width: 32px;\n",
              "    }\n",
              "\n",
              "    .colab-df-convert:hover {\n",
              "      background-color: #E2EBFA;\n",
              "      box-shadow: 0px 1px 2px rgba(60, 64, 67, 0.3), 0px 1px 3px 1px rgba(60, 64, 67, 0.15);\n",
              "      fill: #174EA6;\n",
              "    }\n",
              "\n",
              "    [theme=dark] .colab-df-convert {\n",
              "      background-color: #3B4455;\n",
              "      fill: #D2E3FC;\n",
              "    }\n",
              "\n",
              "    [theme=dark] .colab-df-convert:hover {\n",
              "      background-color: #434B5C;\n",
              "      box-shadow: 0px 1px 3px 1px rgba(0, 0, 0, 0.15);\n",
              "      filter: drop-shadow(0px 1px 2px rgba(0, 0, 0, 0.3));\n",
              "      fill: #FFFFFF;\n",
              "    }\n",
              "  </style>\n",
              "\n",
              "      <script>\n",
              "        const buttonEl =\n",
              "          document.querySelector('#df-538cbf2e-8f16-431c-8678-fe6e7547e3a1 button.colab-df-convert');\n",
              "        buttonEl.style.display =\n",
              "          google.colab.kernel.accessAllowed ? 'block' : 'none';\n",
              "\n",
              "        async function convertToInteractive(key) {\n",
              "          const element = document.querySelector('#df-538cbf2e-8f16-431c-8678-fe6e7547e3a1');\n",
              "          const dataTable =\n",
              "            await google.colab.kernel.invokeFunction('convertToInteractive',\n",
              "                                                     [key], {});\n",
              "          if (!dataTable) return;\n",
              "\n",
              "          const docLinkHtml = 'Like what you see? Visit the ' +\n",
              "            '<a target=\"_blank\" href=https://colab.research.google.com/notebooks/data_table.ipynb>data table notebook</a>'\n",
              "            + ' to learn more about interactive tables.';\n",
              "          element.innerHTML = '';\n",
              "          dataTable['output_type'] = 'display_data';\n",
              "          await google.colab.output.renderOutput(dataTable, element);\n",
              "          const docLink = document.createElement('div');\n",
              "          docLink.innerHTML = docLinkHtml;\n",
              "          element.appendChild(docLink);\n",
              "        }\n",
              "      </script>\n",
              "    </div>\n",
              "  </div>\n",
              "  "
            ],
            "text/plain": [
              "                                                    TOTAL POPULATION\n",
              "Block Group 3, Census Tract 5301, Wayne County,...               771\n",
              "Block Group 1, Census Tract 5302, Wayne County,...              1389\n",
              "Block Group 3, Census Tract 5302, Wayne County,...               139\n",
              "Block Group 2, Census Tract 5305, Wayne County,...               890\n",
              "Block Group 2, Census Tract 5304, Wayne County,...               647\n",
              "Block Group 2, Census Tract 5301, Wayne County,...               366\n",
              "Block Group 1, Census Tract 5301, Wayne County,...               704\n",
              "Block Group 4, Census Tract 5301, Wayne County,...               330\n",
              "Block Group 1, Census Tract 5304, Wayne County,...               398\n",
              "Block Group 3, Census Tract 5303, Wayne County,...               702\n",
              "Block Group 1, Census Tract 5303, Wayne County,...               281\n",
              "Block Group 4, Census Tract 5302, Wayne County,...              1509\n",
              "Block Group 2, Census Tract 5302, Wayne County,...               921\n",
              "Block Group 5, Census Tract 5302, Wayne County,...               340\n",
              "Block Group 1, Census Tract 5305, Wayne County,...               490\n",
              "Block Group 2, Census Tract 5303, Wayne County,...               329\n",
              "Block Group 3, Census Tract 5305, Wayne County,...               435"
            ]
          },
          "metadata": {},
          "execution_count": 18
        }
      ]
    },
    {
      "cell_type": "markdown",
      "source": [
        "Based on this, we can check the total population for choosing areas."
      ],
      "metadata": {
        "id": "206AkQFugyNp"
      }
    },
    {
      "cell_type": "code",
      "source": [
        "print('Total population for choosing areas: ', sum(df['TOTAL POPULATION']))"
      ],
      "metadata": {
        "colab": {
          "base_uri": "https://localhost:8080/"
        },
        "id": "WyDsIQ0qgy-t",
        "outputId": "4de9fa94-21c2-4ed0-bbfe-78f34cac5868"
      },
      "execution_count": 19,
      "outputs": [
        {
          "output_type": "stream",
          "name": "stdout",
          "text": [
            "Total population for choosing areas:  10641\n"
          ]
        }
      ]
    }
  ]
}