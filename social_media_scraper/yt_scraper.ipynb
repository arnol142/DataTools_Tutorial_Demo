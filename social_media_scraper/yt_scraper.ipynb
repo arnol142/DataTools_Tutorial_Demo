{
 "cells": [
  {
   "cell_type": "markdown",
   "metadata": {},
   "source": [
    "# YouTube Scraper\n",
    "\n",
    "## Kelloggs Group "
   ]
  },
  {
   "cell_type": "markdown",
   "metadata": {},
   "source": [
    "### 1. Getting Project Dependecies\n",
    "\n",
    "run **pip install -r requirements.txt** in your terminal\n",
    "\n",
    "This installs pandas, numpy and [pytchat](https://pypi.org/project/pytchat/)"
   ]
  },
  {
   "cell_type": "code",
   "execution_count": null,
   "metadata": {},
   "outputs": [],
   "source": [
    "#!pip install -r requirements.txt"
   ]
  },
  {
   "cell_type": "code",
   "execution_count": 6,
   "metadata": {},
   "outputs": [],
   "source": [
    "import pandas as pd\n",
    "import pytchat\n",
    "import matplotlib.pyplot as plt\n",
    "import time"
   ]
  },
  {
   "cell_type": "code",
   "execution_count": 2,
   "metadata": {},
   "outputs": [],
   "source": [
    "def get_yt_data(chat,run_time=10, show_chat=True):\n",
    "    \"\"\"\n",
    "    Takes in a chat instance and runtime and returns\n",
    "    a dataframe with all chat data in that time\n",
    "    \n",
    "    :param chat: pychat instance\n",
    "    :param run_time: int with total runtime\n",
    "    :param show_chat: boolean telling chat to print or not\n",
    "    :return: pandas dataframe\n",
    "    \"\"\"\n",
    "    start_time = time.time()\n",
    "    send_time = []\n",
    "    name = []\n",
    "    message = []\n",
    "    while chat.is_alive():\n",
    "        for c in chat.get().sync_items():\n",
    "            send_time.append(c.datetime)\n",
    "            name.append(c.author.name)\n",
    "            message.append(c.message)\n",
    "            \n",
    "            if show_chat:\n",
    "                print(f\"{c.datetime} [{c.author.name}]- {c.message}\")\n",
    "\n",
    "            if time.time() - start_time >= run_time:\n",
    "                return pd.DataFrame({'time':send_time,'name':name,'message':message})\n",
    "    "
   ]
  },
  {
   "cell_type": "markdown",
   "metadata": {},
   "source": [
    "### 2. Scraping your YouTube data\n",
    "\n",
    "- Copy the live YouTube link\n",
    "\n",
    "- Make it a string and set it equal to the **yt_link** variable\n",
    "\n",
    "- Run cell and get data"
   ]
  },
  {
   "cell_type": "code",
   "execution_count": 4,
   "metadata": {},
   "outputs": [
    {
     "data": {
      "text/html": [
       "<div>\n",
       "<style scoped>\n",
       "    .dataframe tbody tr th:only-of-type {\n",
       "        vertical-align: middle;\n",
       "    }\n",
       "\n",
       "    .dataframe tbody tr th {\n",
       "        vertical-align: top;\n",
       "    }\n",
       "\n",
       "    .dataframe thead th {\n",
       "        text-align: right;\n",
       "    }\n",
       "</style>\n",
       "<table border=\"1\" class=\"dataframe\">\n",
       "  <thead>\n",
       "    <tr style=\"text-align: right;\">\n",
       "      <th></th>\n",
       "      <th>time</th>\n",
       "      <th>name</th>\n",
       "      <th>message</th>\n",
       "    </tr>\n",
       "  </thead>\n",
       "  <tbody>\n",
       "    <tr>\n",
       "      <th>0</th>\n",
       "      <td>2022-02-18 15:35:45</td>\n",
       "      <td>Taco Slayer</td>\n",
       "      <td>SMOKED BBQ NACHOS!!!!!!!!!</td>\n",
       "    </tr>\n",
       "    <tr>\n",
       "      <th>1</th>\n",
       "      <td>2022-02-18 15:35:45</td>\n",
       "      <td>Fritz Link</td>\n",
       "      <td>its not bbq</td>\n",
       "    </tr>\n",
       "    <tr>\n",
       "      <th>2</th>\n",
       "      <td>2022-02-18 15:35:46</td>\n",
       "      <td>Gustavo Gaming channel</td>\n",
       "      <td>Salmon</td>\n",
       "    </tr>\n",
       "    <tr>\n",
       "      <th>3</th>\n",
       "      <td>2022-02-18 15:35:45</td>\n",
       "      <td>Drillz</td>\n",
       "      <td>there's smoked coochie</td>\n",
       "    </tr>\n",
       "    <tr>\n",
       "      <th>4</th>\n",
       "      <td>2022-02-18 15:35:46</td>\n",
       "      <td>derek</td>\n",
       "      <td>catfish</td>\n",
       "    </tr>\n",
       "  </tbody>\n",
       "</table>\n",
       "</div>"
      ],
      "text/plain": [
       "                  time                    name                     message\n",
       "0  2022-02-18 15:35:45             Taco Slayer  SMOKED BBQ NACHOS!!!!!!!!!\n",
       "1  2022-02-18 15:35:45              Fritz Link                 its not bbq\n",
       "2  2022-02-18 15:35:46  Gustavo Gaming channel                     Salmon \n",
       "3  2022-02-18 15:35:45                  Drillz     there's smoked coochie \n",
       "4  2022-02-18 15:35:46                   derek                     catfish"
      ]
     },
     "execution_count": 4,
     "metadata": {},
     "output_type": "execute_result"
    }
   ],
   "source": [
    "yt_link = \"https://www.youtube.com/watch?v=LodADaKUWp8\"\n",
    "chat = pytchat.create(video_id=yt_link)\n",
    "chat_data = get_yt_data(chat,60,False)\n",
    "chat_data.head()"
   ]
  },
  {
   "cell_type": "markdown",
   "metadata": {},
   "source": [
    "### 3. How can this be used?\n",
    "- This could be used to scrape data from youtube channels that talk over relevant topics to see what this are being said the most in reference to a project.\n",
    "\n",
    "- Seeing what users are most active\n",
    "\n",
    "- Seeing what times are most active"
   ]
  },
  {
   "cell_type": "code",
   "execution_count": 18,
   "metadata": {},
   "outputs": [
    {
     "data": {
      "image/png": "[encoded data removed]",
      "text/plain": [
       "<Figure size 864x504 with 1 Axes>"
      ]
     },
     "metadata": {
      "needs_background": "light"
     },
     "output_type": "display_data"
    }
   ],
   "source": [
    "plt.figure(figsize = (12,7))\n",
    "plt.hist(chat_data['name'].value_counts());"
   ]
  },
  {
   "cell_type": "markdown",
   "metadata": {},
   "source": [
    "### 4. References to libraries used\n",
    "\n",
    "- [pytchat](https://pypi.org/project/pytchat/)\n",
    "\n",
    "- [pandas](https://pandas.pydata.org/)\n",
    "\n",
    "- [matplotlib](https://matplotlib.org/)"
   ]
  }
 ],
 "metadata": {
  "interpreter": {
   "hash": "9fae0222e7ef579c3cc0692d7cdb413546afb4e5626ba30c1f89c4981fa26feb"
  },
  "kernelspec": {
   "display_name": "Python 3.9.7 ('base')",
   "language": "python",
   "name": "python3"
  },
  "language_info": {
   "codemirror_mode": {
    "name": "ipython",
    "version": 3
   },
   "file_extension": ".py",
   "mimetype": "text/x-python",
   "name": "python",
   "nbconvert_exporter": "python",
   "pygments_lexer": "ipython3",
   "version": "3.9.7"
  },
  "orig_nbformat": 4
 },
 "nbformat": 4,
 "nbformat_minor": 2
}
